{
 "cells": [
  {
   "cell_type": "markdown",
   "metadata": {},
   "source": [
    "# TAREA JUPYTER"
   ]
  },
  {
   "cell_type": "markdown",
   "metadata": {},
   "source": [
    "- Se nececita crear un entrorno virtual\n",
    "    ```\n",
    "    python -m venv venv\n",
    "    ```\n",
    "- Se abre la terminal y se ejecuta el siguente linea para ingresar al entorno virtual\n",
    "    1. Para windows\n",
    "    ```\n",
    "    .\\venv\\Scripts\\activate\n",
    "    ```\n",
    "    2. Para Mac\n",
    "    ```\n",
    "    source .\\venv\\bin\\activate\n",
    "    ```\n",
    "- Se instalan las dependecian necesarias en \n",
    "    ```\n",
    "    pip install matplotlib\n",
    "    ```\n",
    "- Luego se importan las librerias"
   ]
  },
  {
   "cell_type": "code",
   "execution_count": 27,
   "metadata": {},
   "outputs": [],
   "source": [
    "import pandas as pd\n",
    "import matplotlib.pyplot as plt"
   ]
  },
  {
   "cell_type": "markdown",
   "metadata": {},
   "source": [
    "```\n",
    "Array con el que se van a extraer los datos \n",
    "```"
   ]
  },
  {
   "cell_type": "code",
   "execution_count": 28,
   "metadata": {},
   "outputs": [],
   "source": [
    "ventas_mensuales = [\n",
    "{\"mes\": \"Enero\", \"total_ventas\": 15000, \"año\": 2023},\n",
    "{\"mes\": \"Febrero\", \"total_ventas\": 18000, \"año\": 2023},\n",
    "{\"mes\": \"Marzo\", \"total_ventas\": 22000, \"año\": 2023},\n",
    "{\"mes\": \"Abril\", \"total_ventas\": 19000, \"año\": 2023},\n",
    "{\"mes\": \"Mayo\", \"total_ventas\": 25000, \"año\": 2023},\n",
    "{\"mes\": \"Junio\", \"total_ventas\": 28000, \"año\": 2023},\n",
    "{\"mes\": \"Julio\", \"total_ventas\": 32000, \"año\": 2023},\n",
    "{\"mes\": \"Agosto\", \"total_ventas\": 30000, \"año\": 2023},\n",
    "{\"mes\": \"Septiembre\", \"total_ventas\": 28000, \"año\": 2023},\n",
    "{\"mes\": \"Octubre\", \"total_ventas\": 31000, \"año\": 2023},\n",
    "{\"mes\": \"Noviembre\", \"total_ventas\": 33000, \"año\": 2023},\n",
    "{\"mes\": \"Diciembre\", \"total_ventas\": 36000, \"año\": 2023},\n",
    "{\"mes\": \"Enero 2\", \"total_ventas\": 37000, \"año\": 2024},\n",
    "{\"mes\": \"Febrero 2\", \"total_ventas\": 38000, \"año\": 2024},\n",
    "{\"mes\": \"Marzo 2\", \"total_ventas\": 42000, \"año\": 2024},\n",
    "{\"mes\": \"Abril 2\", \"total_ventas\": 39000, \"año\": 2024},\n",
    "{\"mes\": \"Mayo 2\", \"total_ventas\": 45000, \"año\": 2024},\n",
    "{\"mes\": \"Junio 2\", \"total_ventas\": 48000, \"año\": 2024},\n",
    "{\"mes\": \"Julio 2\", \"total_ventas\": 52000, \"año\": 2024},\n",
    "{\"mes\": \"Agosto 2\", \"total_ventas\": 50000, \"año\": 2024},\n",
    "{\"mes\": \"Septiembre 2\", \"total_ventas\": 48000, \"año\": 2024},\n",
    "{\"mes\": \"Octubre 2\", \"total_ventas\": 51000, \"año\": 2024},\n",
    "{\"mes\": \"Noviembre 2\", \"total_ventas\": 55000, \"año\": 2024},\n",
    "{\"mes\": \"Diciembre 2\", \"total_ventas\": 58000, \"año\": 2024},\n",
    "]"
   ]
  },
  {
   "cell_type": "markdown",
   "metadata": {},
   "source": [
    "```\n",
    "Dataframe con todos los datos de las ventas mensuales\n",
    "```"
   ]
  },
  {
   "cell_type": "code",
   "execution_count": 29,
   "metadata": {},
   "outputs": [],
   "source": [
    "df0 = pd.DataFrame(ventas_mensuales)"
   ]
  },
  {
   "cell_type": "markdown",
   "metadata": {},
   "source": [
    "```\n",
    "Division por trimestres y dataframe por trimestre\n",
    "```"
   ]
  },
  {
   "cell_type": "code",
   "execution_count": 30,
   "metadata": {},
   "outputs": [],
   "source": [
    "Trimestre1=[\n",
    "{\"mes\": \"Enero\", \"total_ventas\": 15000, \"año\": 2023},\n",
    "{\"mes\": \"Febrero\", \"total_ventas\": 18000, \"año\": 2023},\n",
    "{\"mes\": \"Marzo\", \"total_ventas\": 22000, \"año\": 2023}]\n",
    "df1 = pd.DataFrame(Trimestre1)\n",
    "Trimestre2 = [\n",
    "    {\"mes\": \"Abril\", \"total_ventas\": 19000, \"año\": 2023},\n",
    "{\"mes\": \"Mayo\", \"total_ventas\": 25000, \"año\": 2023},\n",
    "{\"mes\": \"Junio\", \"total_ventas\": 28000, \"año\": 2023},\n",
    "]\n",
    "df2 = pd.DataFrame(Trimestre2)\n",
    "Trimestre3 = [\n",
    "    {\"mes\": \"Julio\", \"total_ventas\": 32000, \"año\": 2023},\n",
    "{\"mes\": \"Agosto\", \"total_ventas\": 30000, \"año\": 2023},\n",
    "{\"mes\": \"Septiembre\", \"total_ventas\": 28000, \"año\": 2023}\n",
    "]\n",
    "df3 = pd.DataFrame(Trimestre3)\n",
    "Trimestre4 = [\n",
    "    {\"mes\": \"Octubre\", \"total_ventas\": 31000, \"año\": 2023},\n",
    "{\"mes\": \"Noviembre\", \"total_ventas\": 33000, \"año\": 2023},\n",
    "{\"mes\": \"Diciembre\", \"total_ventas\": 36000, \"año\": 2023}\n",
    "]\n",
    "df4 = pd.DataFrame(Trimestre4)\n",
    "Trimestre5 = [\n",
    "    {\"mes\": \"Enero 2\", \"total_ventas\": 37000, \"año\": 2024},\n",
    "{\"mes\": \"Febrero 2\", \"total_ventas\": 38000, \"año\": 2024},\n",
    "{\"mes\": \"Marzo 2\", \"total_ventas\": 42000, \"año\": 2024}\n",
    "]\n",
    "df5 = pd.DataFrame(Trimestre5)\n",
    "Trimestre6= [\n",
    "    {\"mes\": \"Abril 2\", \"total_ventas\": 39000, \"año\": 2024},\n",
    "{\"mes\": \"Mayo 2\", \"total_ventas\": 45000, \"año\": 2024},\n",
    "{\"mes\": \"Junio 2\", \"total_ventas\": 48000, \"año\": 2024}\n",
    "]\n",
    "df6 = pd.DataFrame(Trimestre6)\n",
    "Trimestre7 = [\n",
    "    {\"mes\": \"Julio 2\", \"total_ventas\": 52000, \"año\": 2024},\n",
    "{\"mes\": \"Agosto 2\", \"total_ventas\": 50000, \"año\": 2024},\n",
    "{\"mes\": \"Septiembre 2\", \"total_ventas\": 48000, \"año\": 2024}\n",
    "]\n",
    "df7 = pd.DataFrame(Trimestre7)\n",
    "Trimestre8 = [\n",
    "    {\"mes\": \"Octubre 2\", \"total_ventas\": 51000, \"año\": 2024},\n",
    "{\"mes\": \"Noviembre 2\", \"total_ventas\": 55000, \"año\": 2024},\n",
    "{\"mes\": \"Diciembre 2\", \"total_ventas\": 58000, \"año\": 2024},\n",
    "]\n",
    "df8 = pd.DataFrame(Trimestre8)"
   ]
  },
  {
   "cell_type": "markdown",
   "metadata": {},
   "source": [
    "\n",
    "<span style=\"color:green\">Usando el primer DataFrame, se retornan todos los meses y total de ventas donde estos superen 20000 </span>\n"
   ]
  },
  {
   "cell_type": "code",
   "execution_count": 31,
   "metadata": {},
   "outputs": [],
   "source": [
    "ventas_mayores_2000 = df0[df0['total_ventas'] > 20000]"
   ]
  },
  {
   "cell_type": "markdown",
   "metadata": {},
   "source": [
    "```\n",
    "Se imprime el total de ventas que hubo en todos los trimestres\n",
    "```"
   ]
  },
  {
   "cell_type": "code",
   "execution_count": 32,
   "metadata": {},
   "outputs": [
    {
     "name": "stdout",
     "output_type": "stream",
     "text": [
      "El total de las ventas del primer trimestre es de:  55000\n",
      "El total de las ventas del segundo trimestre es de:  72000\n",
      "El total de las ventas del tercer trimestre es de:  90000\n",
      "El total de las ventas del cuarto trimestre es de:  100000\n",
      "El total de las ventas del quinto trimestre es de:  117000\n",
      "El total de las ventas del sexto trimestre es de:  132000\n",
      "El total de las ventas del septimo trimestre es de:  150000\n",
      "El total de las ventas del octavo trimestre es de:  164000\n"
     ]
    }
   ],
   "source": [
    "print(\"El total de las ventas del primer trimestre es de: \", df1['total_ventas'].sum())\n",
    "print(\"El total de las ventas del segundo trimestre es de: \", df2['total_ventas'].sum())\n",
    "print(\"El total de las ventas del tercer trimestre es de: \", df3['total_ventas'].sum())\n",
    "print(\"El total de las ventas del cuarto trimestre es de: \", df4['total_ventas'].sum())\n",
    "print(\"El total de las ventas del quinto trimestre es de: \", df5['total_ventas'].sum())\n",
    "print(\"El total de las ventas del sexto trimestre es de: \", df6['total_ventas'].sum())\n",
    "print(\"El total de las ventas del septimo trimestre es de: \", df7['total_ventas'].sum())\n",
    "print(\"El total de las ventas del octavo trimestre es de: \", df8['total_ventas'].sum())"
   ]
  },
  {
   "cell_type": "markdown",
   "metadata": {},
   "source": [
    "```\n",
    "Se imprime por consola que meses superaron las 20000 ventas\n",
    "```"
   ]
  },
  {
   "cell_type": "code",
   "execution_count": 33,
   "metadata": {},
   "outputs": [
    {
     "name": "stdout",
     "output_type": "stream",
     "text": [
      "Los meses donde hubo ventas mayores a 20000 fueron: \n",
      "             mes  total_ventas   año\n",
      "2          Marzo         22000  2023\n",
      "4           Mayo         25000  2023\n",
      "5          Junio         28000  2023\n",
      "6          Julio         32000  2023\n",
      "7         Agosto         30000  2023\n",
      "8     Septiembre         28000  2023\n",
      "9        Octubre         31000  2023\n",
      "10     Noviembre         33000  2023\n",
      "11     Diciembre         36000  2023\n",
      "12       Enero 2         37000  2024\n",
      "13     Febrero 2         38000  2024\n",
      "14       Marzo 2         42000  2024\n",
      "15       Abril 2         39000  2024\n",
      "16        Mayo 2         45000  2024\n",
      "17       Junio 2         48000  2024\n",
      "18       Julio 2         52000  2024\n",
      "19      Agosto 2         50000  2024\n",
      "20  Septiembre 2         48000  2024\n",
      "21     Octubre 2         51000  2024\n",
      "22   Noviembre 2         55000  2024\n",
      "23   Diciembre 2         58000  2024\n"
     ]
    }
   ],
   "source": [
    "print (\"Los meses donde hubo ventas mayores a 20000 fueron: \")\n",
    "print(ventas_mayores_2000)"
   ]
  },
  {
   "cell_type": "markdown",
   "metadata": {},
   "source": [
    "```\n",
    "Se imprime el con mas ventas y cuantas ventas fueron\n",
    "````"
   ]
  },
  {
   "cell_type": "code",
   "execution_count": 34,
   "metadata": {},
   "outputs": [
    {
     "name": "stdout",
     "output_type": "stream",
     "text": [
      "El mes con mayor ventas es diciembre2 con un total de:  58000\n"
     ]
    }
   ],
   "source": [
    "print('El mes con mayor ventas es diciembre2 con un total de: ', df0[\"total_ventas\"].max())"
   ]
  },
  {
   "cell_type": "markdown",
   "metadata": {},
   "source": [
    "```\n",
    "Se imprime por consola el promedio de ventas mensuales\n",
    "```"
   ]
  },
  {
   "cell_type": "code",
   "execution_count": 35,
   "metadata": {},
   "outputs": [
    {
     "name": "stdout",
     "output_type": "stream",
     "text": [
      "El promedio de ventas mensuales es de:  36666.666666666664\n"
     ]
    }
   ],
   "source": [
    "print('El promedio de ventas mensuales es de: ',df0['total_ventas'].mean())"
   ]
  },
  {
   "cell_type": "markdown",
   "metadata": {},
   "source": [
    "```\n",
    "Se realiza el dataframe unicamente con los meses y su total de ventas\n",
    "```"
   ]
  },
  {
   "cell_type": "code",
   "execution_count": 36,
   "metadata": {},
   "outputs": [],
   "source": [
    "df0.drop('año', axis=1, inplace=True)"
   ]
  },
  {
   "cell_type": "markdown",
   "metadata": {},
   "source": [
    "```\n",
    "Con los meses y ventas, se le asignan valores X e Y para poder realizar los graficos\n",
    "```"
   ]
  },
  {
   "cell_type": "code",
   "execution_count": 37,
   "metadata": {},
   "outputs": [],
   "source": [
    "x = df0['mes']\n",
    "y = df0['total_ventas']"
   ]
  },
  {
   "cell_type": "markdown",
   "metadata": {},
   "source": [
    "```\n",
    "Se le pasan los valores a la libreria para poder realizar el grafico, se le asigna un titulo al grafico, un nombre al eje X, otro nombre al eje Y, y se muestra el grafico\n",
    "```"
   ]
  },
  {
   "cell_type": "code",
   "execution_count": 38,
   "metadata": {},
   "outputs": [
    {
     "data": {
      "text/plain": [
       "Text(0, 0.5, 'Ventas por mes')"
      ]
     },
     "execution_count": 38,
     "metadata": {},
     "output_type": "execute_result"
    },
    {
     "data": {
      "image/png": "[encoded data removed]",
      "text/plain": [
       "<Figure size 640x480 with 1 Axes>"
      ]
     },
     "metadata": {},
     "output_type": "display_data"
    }
   ],
   "source": [
    "plt.plot(x, y)\n",
    "plt.title('Grafico de ventas por mes')\n",
    "plt.title('Grafico de ventas por mes')\n",
    "plt.ylabel('Ventas por mes')"
   ]
  }
 ],
 "metadata": {
  "kernelspec": {
   "display_name": "Python 3",
   "language": "python",
   "name": "python3"
  },
  "language_info": {
   "codemirror_mode": {
    "name": "ipython",
    "version": 3
   },
   "file_extension": ".py",
   "mimetype": "text/x-python",
   "name": "python",
   "nbconvert_exporter": "python",
   "pygments_lexer": "ipython3",
   "version": "3.12.3"
  }
 },
 "nbformat": 4,
 "nbformat_minor": 2
}
